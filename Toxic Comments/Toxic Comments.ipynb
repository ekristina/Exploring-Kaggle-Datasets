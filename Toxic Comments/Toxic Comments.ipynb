{
 "cells": [
  {
   "cell_type": "markdown",
   "metadata": {},
   "source": [
    "## Exploring and predicting"
   ]
  },
  {
   "cell_type": "markdown",
   "metadata": {},
   "source": [
    "Import the libraries"
   ]
  },
  {
   "cell_type": "code",
   "execution_count": 1,
   "metadata": {
    "collapsed": true
   },
   "outputs": [],
   "source": [
    "import numpy as np\n",
    "import pandas as pd\n",
    "\n",
    "from sklearn.pipeline import Pipeline\n",
    "from sklearn.naive_bayes import MultinomialNB\n",
    "from sklearn.feature_extraction.text import TfidfVectorizer, CountVectorizer"
   ]
  },
  {
   "cell_type": "markdown",
   "metadata": {},
   "source": [
    "Load the data into data frame"
   ]
  },
  {
   "cell_type": "code",
   "execution_count": 2,
   "metadata": {},
   "outputs": [
    {
     "data": {
      "text/html": [
       "<div>\n",
       "<style>\n",
       "    .dataframe thead tr:only-child th {\n",
       "        text-align: right;\n",
       "    }\n",
       "\n",
       "    .dataframe thead th {\n",
       "        text-align: left;\n",
       "    }\n",
       "\n",
       "    .dataframe tbody tr th {\n",
       "        vertical-align: top;\n",
       "    }\n",
       "</style>\n",
       "<table border=\"1\" class=\"dataframe\">\n",
       "  <thead>\n",
       "    <tr style=\"text-align: right;\">\n",
       "      <th></th>\n",
       "      <th>id</th>\n",
       "      <th>comment_text</th>\n",
       "      <th>toxic</th>\n",
       "      <th>severe_toxic</th>\n",
       "      <th>obscene</th>\n",
       "      <th>threat</th>\n",
       "      <th>insult</th>\n",
       "      <th>identity_hate</th>\n",
       "    </tr>\n",
       "  </thead>\n",
       "  <tbody>\n",
       "    <tr>\n",
       "      <th>95846</th>\n",
       "      <td>999977655955</td>\n",
       "      <td>\"\\nI have discussed it, unlike most of those w...</td>\n",
       "      <td>0</td>\n",
       "      <td>0</td>\n",
       "      <td>0</td>\n",
       "      <td>0</td>\n",
       "      <td>0</td>\n",
       "      <td>0</td>\n",
       "    </tr>\n",
       "    <tr>\n",
       "      <th>95847</th>\n",
       "      <td>999982426659</td>\n",
       "      <td>ps. Almost forgot, Paine don't reply back to t...</td>\n",
       "      <td>1</td>\n",
       "      <td>0</td>\n",
       "      <td>1</td>\n",
       "      <td>0</td>\n",
       "      <td>0</td>\n",
       "      <td>0</td>\n",
       "    </tr>\n",
       "    <tr>\n",
       "      <th>95848</th>\n",
       "      <td>999982764066</td>\n",
       "      <td>Mamoun Darkazanli\\nFor some reason I am unable...</td>\n",
       "      <td>0</td>\n",
       "      <td>0</td>\n",
       "      <td>0</td>\n",
       "      <td>0</td>\n",
       "      <td>0</td>\n",
       "      <td>0</td>\n",
       "    </tr>\n",
       "    <tr>\n",
       "      <th>95849</th>\n",
       "      <td>999986890563</td>\n",
       "      <td>Salafi would be a better term. It is more poli...</td>\n",
       "      <td>0</td>\n",
       "      <td>0</td>\n",
       "      <td>0</td>\n",
       "      <td>0</td>\n",
       "      <td>0</td>\n",
       "      <td>0</td>\n",
       "    </tr>\n",
       "    <tr>\n",
       "      <th>95850</th>\n",
       "      <td>999988164717</td>\n",
       "      <td>making wikipedia a better and more inviting pl...</td>\n",
       "      <td>0</td>\n",
       "      <td>0</td>\n",
       "      <td>0</td>\n",
       "      <td>0</td>\n",
       "      <td>0</td>\n",
       "      <td>0</td>\n",
       "    </tr>\n",
       "  </tbody>\n",
       "</table>\n",
       "</div>"
      ],
      "text/plain": [
       "                 id                                       comment_text  toxic  \\\n",
       "95846  999977655955  \"\\nI have discussed it, unlike most of those w...      0   \n",
       "95847  999982426659  ps. Almost forgot, Paine don't reply back to t...      1   \n",
       "95848  999982764066  Mamoun Darkazanli\\nFor some reason I am unable...      0   \n",
       "95849  999986890563  Salafi would be a better term. It is more poli...      0   \n",
       "95850  999988164717  making wikipedia a better and more inviting pl...      0   \n",
       "\n",
       "       severe_toxic  obscene  threat  insult  identity_hate  \n",
       "95846             0        0       0       0              0  \n",
       "95847             0        1       0       0              0  \n",
       "95848             0        0       0       0              0  \n",
       "95849             0        0       0       0              0  \n",
       "95850             0        0       0       0              0  "
      ]
     },
     "execution_count": 2,
     "metadata": {},
     "output_type": "execute_result"
    }
   ],
   "source": [
    "real_train_data = pd.read_csv(\"./data/train.csv\")\n",
    "real_test_data = pd.read_csv(\"./data/test.csv\")\n",
    "real_train_data.tail()"
   ]
  },
  {
   "cell_type": "code",
   "execution_count": 3,
   "metadata": {},
   "outputs": [
    {
     "data": {
      "text/html": [
       "<div>\n",
       "<style>\n",
       "    .dataframe thead tr:only-child th {\n",
       "        text-align: right;\n",
       "    }\n",
       "\n",
       "    .dataframe thead th {\n",
       "        text-align: left;\n",
       "    }\n",
       "\n",
       "    .dataframe tbody tr th {\n",
       "        vertical-align: top;\n",
       "    }\n",
       "</style>\n",
       "<table border=\"1\" class=\"dataframe\">\n",
       "  <thead>\n",
       "    <tr style=\"text-align: right;\">\n",
       "      <th></th>\n",
       "      <th>id</th>\n",
       "      <th>comment_text</th>\n",
       "      <th>toxic</th>\n",
       "      <th>severe_toxic</th>\n",
       "      <th>obscene</th>\n",
       "      <th>threat</th>\n",
       "      <th>insult</th>\n",
       "      <th>identity_hate</th>\n",
       "    </tr>\n",
       "  </thead>\n",
       "  <tbody>\n",
       "    <tr>\n",
       "      <th>61215</th>\n",
       "      <td>637851437405</td>\n",
       "      <td>Hey idiot! What's this fucking and animal lang...</td>\n",
       "      <td>1</td>\n",
       "      <td>1</td>\n",
       "      <td>1</td>\n",
       "      <td>0</td>\n",
       "      <td>1</td>\n",
       "      <td>0</td>\n",
       "    </tr>\n",
       "    <tr>\n",
       "      <th>12355</th>\n",
       "      <td>127430748543</td>\n",
       "      <td>\" June 2010 (UTC)\\n\\n I would suggest, quite s...</td>\n",
       "      <td>0</td>\n",
       "      <td>0</td>\n",
       "      <td>0</td>\n",
       "      <td>0</td>\n",
       "      <td>0</td>\n",
       "      <td>0</td>\n",
       "    </tr>\n",
       "    <tr>\n",
       "      <th>18734</th>\n",
       "      <td>194109274271</td>\n",
       "      <td>There does not seem to be a cohesive entity ca...</td>\n",
       "      <td>0</td>\n",
       "      <td>0</td>\n",
       "      <td>0</td>\n",
       "      <td>0</td>\n",
       "      <td>0</td>\n",
       "      <td>0</td>\n",
       "    </tr>\n",
       "    <tr>\n",
       "      <th>55989</th>\n",
       "      <td>583947631711</td>\n",
       "      <td>Please check the defintion of Category:Concept...</td>\n",
       "      <td>0</td>\n",
       "      <td>0</td>\n",
       "      <td>0</td>\n",
       "      <td>0</td>\n",
       "      <td>0</td>\n",
       "      <td>0</td>\n",
       "    </tr>\n",
       "    <tr>\n",
       "      <th>60337</th>\n",
       "      <td>628918345294</td>\n",
       "      <td>\"\\n\\nQuestion - does Wikipedia have articles o...</td>\n",
       "      <td>0</td>\n",
       "      <td>0</td>\n",
       "      <td>0</td>\n",
       "      <td>0</td>\n",
       "      <td>0</td>\n",
       "      <td>0</td>\n",
       "    </tr>\n",
       "  </tbody>\n",
       "</table>\n",
       "</div>"
      ],
      "text/plain": [
       "                 id                                       comment_text  toxic  \\\n",
       "61215  637851437405  Hey idiot! What's this fucking and animal lang...      1   \n",
       "12355  127430748543  \" June 2010 (UTC)\\n\\n I would suggest, quite s...      0   \n",
       "18734  194109274271  There does not seem to be a cohesive entity ca...      0   \n",
       "55989  583947631711  Please check the defintion of Category:Concept...      0   \n",
       "60337  628918345294  \"\\n\\nQuestion - does Wikipedia have articles o...      0   \n",
       "\n",
       "       severe_toxic  obscene  threat  insult  identity_hate  \n",
       "61215             1        1       0       1              0  \n",
       "12355             0        0       0       0              0  \n",
       "18734             0        0       0       0              0  \n",
       "55989             0        0       0       0              0  \n",
       "60337             0        0       0       0              0  "
      ]
     },
     "execution_count": 3,
     "metadata": {},
     "output_type": "execute_result"
    }
   ],
   "source": [
    "from sklearn.model_selection import train_test_split\n",
    "\n",
    "train_data, test_data = train_test_split(real_train_data, test_size=0.2)\n",
    "train_data.tail()"
   ]
  },
  {
   "cell_type": "code",
   "execution_count": 4,
   "metadata": {
    "collapsed": true
   },
   "outputs": [],
   "source": [
    "train_labels = train_data[['toxic', 'severe_toxic', 'obscene', 'threat', 'insult', 'identity_hate']]\n",
    "train_features = train_data['comment_text']"
   ]
  },
  {
   "cell_type": "markdown",
   "metadata": {},
   "source": [
    "\n"
   ]
  },
  {
   "cell_type": "markdown",
   "metadata": {},
   "source": [
    "Building pipeline for training using Multinomial Naive Bayes algorythm."
   ]
  },
  {
   "cell_type": "code",
   "execution_count": 5,
   "metadata": {
    "collapsed": true
   },
   "outputs": [],
   "source": [
    "# create pipeline\n",
    "from sklearn.multiclass import OneVsRestClassifier\n",
    "clf = Pipeline([\n",
    "    ('vectorizer', TfidfVectorizer(stop_words='english')),\n",
    "    ('classifier', OneVsRestClassifier(MultinomialNB())),\n",
    "])"
   ]
  },
  {
   "cell_type": "code",
   "execution_count": 6,
   "metadata": {},
   "outputs": [
    {
     "data": {
      "text/plain": [
       "Pipeline(memory=None,\n",
       "     steps=[('vectorizer', TfidfVectorizer(analyzer='word', binary=False, decode_error='strict',\n",
       "        dtype=<class 'numpy.int64'>, encoding='utf-8', input='content',\n",
       "        lowercase=True, max_df=1.0, max_features=None, min_df=1,\n",
       "        ngram_range=(1, 1), norm='l2', preprocessor=None, smooth_idf=Tr...assifier(estimator=MultinomialNB(alpha=1.0, class_prior=None, fit_prior=True),\n",
       "          n_jobs=1))])"
      ]
     },
     "execution_count": 6,
     "metadata": {},
     "output_type": "execute_result"
    }
   ],
   "source": [
    "clf.fit(train_features.values, train_labels.values)"
   ]
  },
  {
   "cell_type": "markdown",
   "metadata": {},
   "source": [
    "Test messages"
   ]
  },
  {
   "cell_type": "code",
   "execution_count": 7,
   "metadata": {},
   "outputs": [
    {
     "data": {
      "text/html": [
       "<div>\n",
       "<style>\n",
       "    .dataframe thead tr:only-child th {\n",
       "        text-align: right;\n",
       "    }\n",
       "\n",
       "    .dataframe thead th {\n",
       "        text-align: left;\n",
       "    }\n",
       "\n",
       "    .dataframe tbody tr th {\n",
       "        vertical-align: top;\n",
       "    }\n",
       "</style>\n",
       "<table border=\"1\" class=\"dataframe\">\n",
       "  <thead>\n",
       "    <tr style=\"text-align: right;\">\n",
       "      <th></th>\n",
       "      <th>id</th>\n",
       "      <th>comment_text</th>\n",
       "      <th>toxic</th>\n",
       "      <th>severe_toxic</th>\n",
       "      <th>obscene</th>\n",
       "      <th>threat</th>\n",
       "      <th>insult</th>\n",
       "      <th>identity_hate</th>\n",
       "    </tr>\n",
       "  </thead>\n",
       "  <tbody>\n",
       "    <tr>\n",
       "      <th>1304</th>\n",
       "      <td>13628510767</td>\n",
       "      <td>Hi Elen, apart from chewing your ear for the f...</td>\n",
       "      <td>0</td>\n",
       "      <td>0</td>\n",
       "      <td>0</td>\n",
       "      <td>0</td>\n",
       "      <td>0</td>\n",
       "      <td>0</td>\n",
       "    </tr>\n",
       "    <tr>\n",
       "      <th>69433</th>\n",
       "      <td>724406376236</td>\n",
       "      <td>See claim three here: http://onlinelibrary.wil...</td>\n",
       "      <td>0</td>\n",
       "      <td>0</td>\n",
       "      <td>0</td>\n",
       "      <td>0</td>\n",
       "      <td>0</td>\n",
       "      <td>0</td>\n",
       "    </tr>\n",
       "    <tr>\n",
       "      <th>4400</th>\n",
       "      <td>45872162686</td>\n",
       "      <td>complete bullshit - your past is catching up w...</td>\n",
       "      <td>1</td>\n",
       "      <td>0</td>\n",
       "      <td>1</td>\n",
       "      <td>0</td>\n",
       "      <td>0</td>\n",
       "      <td>0</td>\n",
       "    </tr>\n",
       "    <tr>\n",
       "      <th>64751</th>\n",
       "      <td>674654617104</td>\n",
       "      <td>I'm away from home now... Basically, I returne...</td>\n",
       "      <td>0</td>\n",
       "      <td>0</td>\n",
       "      <td>0</td>\n",
       "      <td>0</td>\n",
       "      <td>0</td>\n",
       "      <td>0</td>\n",
       "    </tr>\n",
       "    <tr>\n",
       "      <th>52060</th>\n",
       "      <td>543151192790</td>\n",
       "      <td>Think Breast's\\nThink Breast's\\nThink Breast's...</td>\n",
       "      <td>0</td>\n",
       "      <td>0</td>\n",
       "      <td>0</td>\n",
       "      <td>0</td>\n",
       "      <td>0</td>\n",
       "      <td>0</td>\n",
       "    </tr>\n",
       "  </tbody>\n",
       "</table>\n",
       "</div>"
      ],
      "text/plain": [
       "                 id                                       comment_text  toxic  \\\n",
       "1304    13628510767  Hi Elen, apart from chewing your ear for the f...      0   \n",
       "69433  724406376236  See claim three here: http://onlinelibrary.wil...      0   \n",
       "4400    45872162686  complete bullshit - your past is catching up w...      1   \n",
       "64751  674654617104  I'm away from home now... Basically, I returne...      0   \n",
       "52060  543151192790  Think Breast's\\nThink Breast's\\nThink Breast's...      0   \n",
       "\n",
       "       severe_toxic  obscene  threat  insult  identity_hate  \n",
       "1304              0        0       0       0              0  \n",
       "69433             0        0       0       0              0  \n",
       "4400              0        1       0       0              0  \n",
       "64751             0        0       0       0              0  \n",
       "52060             0        0       0       0              0  "
      ]
     },
     "execution_count": 7,
     "metadata": {},
     "output_type": "execute_result"
    }
   ],
   "source": [
    "test_data.head()"
   ]
  },
  {
   "cell_type": "code",
   "execution_count": 8,
   "metadata": {
    "collapsed": true
   },
   "outputs": [],
   "source": [
    "columns = ['toxic', 'severe_toxic', 'obscene', 'threat', 'insult', 'identity_hate'] # do not remove\n",
    "predicted = list(clf.predict(test_data['comment_text'].values))\n",
    "real_labels = list(test_data[columns].values)\n",
    "\n",
    "# predicted_df = test_data[['id', 'comment_text']]"
   ]
  },
  {
   "cell_type": "code",
   "execution_count": 9,
   "metadata": {
    "collapsed": true
   },
   "outputs": [],
   "source": [
    "predicted_labels_df = pd.DataFrame(predicted, columns=columns)"
   ]
  },
  {
   "cell_type": "code",
   "execution_count": 10,
   "metadata": {},
   "outputs": [
    {
     "data": {
      "text/html": [
       "<div>\n",
       "<style>\n",
       "    .dataframe thead tr:only-child th {\n",
       "        text-align: right;\n",
       "    }\n",
       "\n",
       "    .dataframe thead th {\n",
       "        text-align: left;\n",
       "    }\n",
       "\n",
       "    .dataframe tbody tr th {\n",
       "        vertical-align: top;\n",
       "    }\n",
       "</style>\n",
       "<table border=\"1\" class=\"dataframe\">\n",
       "  <thead>\n",
       "    <tr style=\"text-align: right;\">\n",
       "      <th></th>\n",
       "      <th>toxic</th>\n",
       "      <th>severe_toxic</th>\n",
       "      <th>obscene</th>\n",
       "      <th>threat</th>\n",
       "      <th>insult</th>\n",
       "      <th>identity_hate</th>\n",
       "    </tr>\n",
       "  </thead>\n",
       "  <tbody>\n",
       "    <tr>\n",
       "      <th>0</th>\n",
       "      <td>0</td>\n",
       "      <td>0</td>\n",
       "      <td>0</td>\n",
       "      <td>0</td>\n",
       "      <td>0</td>\n",
       "      <td>0</td>\n",
       "    </tr>\n",
       "    <tr>\n",
       "      <th>1</th>\n",
       "      <td>0</td>\n",
       "      <td>0</td>\n",
       "      <td>0</td>\n",
       "      <td>0</td>\n",
       "      <td>0</td>\n",
       "      <td>0</td>\n",
       "    </tr>\n",
       "    <tr>\n",
       "      <th>2</th>\n",
       "      <td>0</td>\n",
       "      <td>0</td>\n",
       "      <td>0</td>\n",
       "      <td>0</td>\n",
       "      <td>0</td>\n",
       "      <td>0</td>\n",
       "    </tr>\n",
       "    <tr>\n",
       "      <th>3</th>\n",
       "      <td>0</td>\n",
       "      <td>0</td>\n",
       "      <td>0</td>\n",
       "      <td>0</td>\n",
       "      <td>0</td>\n",
       "      <td>0</td>\n",
       "    </tr>\n",
       "    <tr>\n",
       "      <th>4</th>\n",
       "      <td>0</td>\n",
       "      <td>0</td>\n",
       "      <td>0</td>\n",
       "      <td>0</td>\n",
       "      <td>0</td>\n",
       "      <td>0</td>\n",
       "    </tr>\n",
       "  </tbody>\n",
       "</table>\n",
       "</div>"
      ],
      "text/plain": [
       "   toxic  severe_toxic  obscene  threat  insult  identity_hate\n",
       "0      0             0        0       0       0              0\n",
       "1      0             0        0       0       0              0\n",
       "2      0             0        0       0       0              0\n",
       "3      0             0        0       0       0              0\n",
       "4      0             0        0       0       0              0"
      ]
     },
     "execution_count": 10,
     "metadata": {},
     "output_type": "execute_result"
    }
   ],
   "source": [
    "predicted_labels_df.head()"
   ]
  },
  {
   "cell_type": "code",
   "execution_count": 11,
   "metadata": {
    "collapsed": true
   },
   "outputs": [],
   "source": [
    "from sklearn.metrics import accuracy_score"
   ]
  },
  {
   "cell_type": "code",
   "execution_count": 12,
   "metadata": {
    "collapsed": true
   },
   "outputs": [],
   "source": [
    "accuracy_toxic = accuracy_score(test_data['toxic'].values, predicted_labels_df['toxic'].values)\n",
    "accuracy_severe_toxic = accuracy_score(test_data['severe_toxic'].values, predicted_labels_df['severe_toxic'].values)\n",
    "accuracy_obscene = accuracy_score(test_data['obscene'].values, predicted_labels_df['obscene'].values)\n",
    "accuracy_threat = accuracy_score(test_data['threat'].values, predicted_labels_df['threat'].values)\n",
    "accuracy_insult = accuracy_score(test_data['insult'].values, predicted_labels_df['insult'].values)\n",
    "accuracy_identity_hate = accuracy_score(test_data['identity_hate'].values, predicted_labels_df['identity_hate'].values)"
   ]
  },
  {
   "cell_type": "code",
   "execution_count": 13,
   "metadata": {},
   "outputs": [
    {
     "name": "stdout",
     "output_type": "stream",
     "text": [
      "Accuracy of toxic comment prediction is  0.917583850608\n",
      "Accuracy of severe toxic comment prediction is  0.990037035105\n",
      "Accuracy of obscene comment prediction is  0.950550310365\n",
      "Accuracy of threat comment prediction is  0.997339731887\n",
      "Accuracy of insult comment prediction is  0.951228417923\n",
      "Accuracy of comment with identity hate prediction is  0.99201919566\n"
     ]
    }
   ],
   "source": [
    "print(\"Accuracy of toxic comment prediction is \", accuracy_toxic)\n",
    "print(\"Accuracy of severe toxic comment prediction is \", accuracy_severe_toxic)\n",
    "print(\"Accuracy of obscene comment prediction is \", accuracy_obscene)\n",
    "print(\"Accuracy of threat comment prediction is \", accuracy_threat)\n",
    "print(\"Accuracy of insult comment prediction is \", accuracy_insult)\n",
    "print(\"Accuracy of comment with identity hate prediction is \", accuracy_identity_hate)"
   ]
  },
  {
   "cell_type": "markdown",
   "metadata": {
    "collapsed": true
   },
   "source": [
    "It seems that the accuracy is pretty high. But the reason here is that the most of comments have zeros. So, the model is pretty good in predicting that the comment is unlikely to fall in one of the categories.\n",
    "\n",
    "What can be done to measure the real accuracy?\n",
    "1. Seems that dropping off the neutral comments will show the real accuracy. Probably, I have to try to cut off comments with all zeros (neutral comments)."
   ]
  },
  {
   "cell_type": "code",
   "execution_count": 14,
   "metadata": {
    "collapsed": true
   },
   "outputs": [],
   "source": [
    "# test = test[(test['id'] != 1) | (test['num'] != 1)]\n",
    "test_offensive_df = test_data[(test_data['toxic'] != 0) \n",
    "                              | (test_data['severe_toxic'] != 0) \n",
    "                              | (test_data['obscene'] != 0) \n",
    "                              | (test_data['threat'] != 0) \n",
    "                              | (test_data['insult'] != 0) \n",
    "                              | (test_data['identity_hate'] != 0)]"
   ]
  },
  {
   "cell_type": "markdown",
   "metadata": {},
   "source": [
    "Let's make sure that all of the messages have at least one '1'."
   ]
  },
  {
   "cell_type": "code",
   "execution_count": 15,
   "metadata": {},
   "outputs": [
    {
     "data": {
      "text/html": [
       "<div>\n",
       "<style>\n",
       "    .dataframe thead tr:only-child th {\n",
       "        text-align: right;\n",
       "    }\n",
       "\n",
       "    .dataframe thead th {\n",
       "        text-align: left;\n",
       "    }\n",
       "\n",
       "    .dataframe tbody tr th {\n",
       "        vertical-align: top;\n",
       "    }\n",
       "</style>\n",
       "<table border=\"1\" class=\"dataframe\">\n",
       "  <thead>\n",
       "    <tr style=\"text-align: right;\">\n",
       "      <th></th>\n",
       "      <th>id</th>\n",
       "      <th>comment_text</th>\n",
       "      <th>toxic</th>\n",
       "      <th>severe_toxic</th>\n",
       "      <th>obscene</th>\n",
       "      <th>threat</th>\n",
       "      <th>insult</th>\n",
       "      <th>identity_hate</th>\n",
       "    </tr>\n",
       "  </thead>\n",
       "  <tbody>\n",
       "    <tr>\n",
       "      <th>4400</th>\n",
       "      <td>45872162686</td>\n",
       "      <td>complete bullshit - your past is catching up w...</td>\n",
       "      <td>1</td>\n",
       "      <td>0</td>\n",
       "      <td>1</td>\n",
       "      <td>0</td>\n",
       "      <td>0</td>\n",
       "      <td>0</td>\n",
       "    </tr>\n",
       "    <tr>\n",
       "      <th>22629</th>\n",
       "      <td>233569787589</td>\n",
       "      <td>\" name was Willie, and he said he was standing...</td>\n",
       "      <td>0</td>\n",
       "      <td>0</td>\n",
       "      <td>0</td>\n",
       "      <td>0</td>\n",
       "      <td>0</td>\n",
       "      <td>1</td>\n",
       "    </tr>\n",
       "    <tr>\n",
       "      <th>26870</th>\n",
       "      <td>278354806104</td>\n",
       "      <td>sup bitch i'm back.  yeah its 420 MOONSHINE bA...</td>\n",
       "      <td>1</td>\n",
       "      <td>0</td>\n",
       "      <td>1</td>\n",
       "      <td>0</td>\n",
       "      <td>1</td>\n",
       "      <td>0</td>\n",
       "    </tr>\n",
       "    <tr>\n",
       "      <th>40220</th>\n",
       "      <td>420211466315</td>\n",
       "      <td>Vandalism of my user page \\n\\nPlease do not va...</td>\n",
       "      <td>1</td>\n",
       "      <td>0</td>\n",
       "      <td>1</td>\n",
       "      <td>0</td>\n",
       "      <td>1</td>\n",
       "      <td>0</td>\n",
       "    </tr>\n",
       "    <tr>\n",
       "      <th>55082</th>\n",
       "      <td>574996253054</td>\n",
       "      <td>November 2012 (UTC) | decline=You moron! Why d...</td>\n",
       "      <td>1</td>\n",
       "      <td>0</td>\n",
       "      <td>0</td>\n",
       "      <td>0</td>\n",
       "      <td>1</td>\n",
       "      <td>0</td>\n",
       "    </tr>\n",
       "  </tbody>\n",
       "</table>\n",
       "</div>"
      ],
      "text/plain": [
       "                 id                                       comment_text  toxic  \\\n",
       "4400    45872162686  complete bullshit - your past is catching up w...      1   \n",
       "22629  233569787589  \" name was Willie, and he said he was standing...      0   \n",
       "26870  278354806104  sup bitch i'm back.  yeah its 420 MOONSHINE bA...      1   \n",
       "40220  420211466315  Vandalism of my user page \\n\\nPlease do not va...      1   \n",
       "55082  574996253054  November 2012 (UTC) | decline=You moron! Why d...      1   \n",
       "\n",
       "       severe_toxic  obscene  threat  insult  identity_hate  \n",
       "4400              0        1       0       0              0  \n",
       "22629             0        0       0       0              1  \n",
       "26870             0        1       0       1              0  \n",
       "40220             0        1       0       1              0  \n",
       "55082             0        0       0       1              0  "
      ]
     },
     "execution_count": 15,
     "metadata": {},
     "output_type": "execute_result"
    }
   ],
   "source": [
    "test_offensive_df.head()"
   ]
  },
  {
   "cell_type": "markdown",
   "metadata": {},
   "source": [
    "Predict the values for the new dataframe."
   ]
  },
  {
   "cell_type": "code",
   "execution_count": 16,
   "metadata": {},
   "outputs": [
    {
     "data": {
      "text/html": [
       "<div>\n",
       "<style>\n",
       "    .dataframe thead tr:only-child th {\n",
       "        text-align: right;\n",
       "    }\n",
       "\n",
       "    .dataframe thead th {\n",
       "        text-align: left;\n",
       "    }\n",
       "\n",
       "    .dataframe tbody tr th {\n",
       "        vertical-align: top;\n",
       "    }\n",
       "</style>\n",
       "<table border=\"1\" class=\"dataframe\">\n",
       "  <thead>\n",
       "    <tr style=\"text-align: right;\">\n",
       "      <th></th>\n",
       "      <th>toxic</th>\n",
       "      <th>severe_toxic</th>\n",
       "      <th>obscene</th>\n",
       "      <th>threat</th>\n",
       "      <th>insult</th>\n",
       "      <th>identity_hate</th>\n",
       "    </tr>\n",
       "  </thead>\n",
       "  <tbody>\n",
       "    <tr>\n",
       "      <th>0</th>\n",
       "      <td>0</td>\n",
       "      <td>0</td>\n",
       "      <td>0</td>\n",
       "      <td>0</td>\n",
       "      <td>0</td>\n",
       "      <td>0</td>\n",
       "    </tr>\n",
       "    <tr>\n",
       "      <th>1</th>\n",
       "      <td>0</td>\n",
       "      <td>0</td>\n",
       "      <td>0</td>\n",
       "      <td>0</td>\n",
       "      <td>0</td>\n",
       "      <td>0</td>\n",
       "    </tr>\n",
       "    <tr>\n",
       "      <th>2</th>\n",
       "      <td>1</td>\n",
       "      <td>0</td>\n",
       "      <td>0</td>\n",
       "      <td>0</td>\n",
       "      <td>0</td>\n",
       "      <td>0</td>\n",
       "    </tr>\n",
       "    <tr>\n",
       "      <th>3</th>\n",
       "      <td>0</td>\n",
       "      <td>0</td>\n",
       "      <td>0</td>\n",
       "      <td>0</td>\n",
       "      <td>0</td>\n",
       "      <td>0</td>\n",
       "    </tr>\n",
       "    <tr>\n",
       "      <th>4</th>\n",
       "      <td>0</td>\n",
       "      <td>0</td>\n",
       "      <td>0</td>\n",
       "      <td>0</td>\n",
       "      <td>0</td>\n",
       "      <td>0</td>\n",
       "    </tr>\n",
       "  </tbody>\n",
       "</table>\n",
       "</div>"
      ],
      "text/plain": [
       "   toxic  severe_toxic  obscene  threat  insult  identity_hate\n",
       "0      0             0        0       0       0              0\n",
       "1      0             0        0       0       0              0\n",
       "2      1             0        0       0       0              0\n",
       "3      0             0        0       0       0              0\n",
       "4      0             0        0       0       0              0"
      ]
     },
     "execution_count": 16,
     "metadata": {},
     "output_type": "execute_result"
    }
   ],
   "source": [
    "predicted_toxicity = list(clf.predict(test_offensive_df['comment_text'].values))\n",
    "real_labels_toxicity = list(test_offensive_df[columns].values)\n",
    "\n",
    "# predicted_df = test_data[['id', 'comment_text']]\n",
    "predicted_labels_df = pd.DataFrame(predicted_toxicity, columns=columns)\n",
    "predicted_labels_df.head()"
   ]
  },
  {
   "cell_type": "markdown",
   "metadata": {},
   "source": [
    "Calculate new predictions for toxic comments. But I already anticipate the result..."
   ]
  },
  {
   "cell_type": "code",
   "execution_count": 17,
   "metadata": {
    "collapsed": true
   },
   "outputs": [],
   "source": [
    "accuracy_toxic_n = accuracy_score(test_offensive_df['toxic'].values, predicted_labels_df['toxic'].values)\n",
    "accuracy_severe_toxic_n = accuracy_score(test_offensive_df['severe_toxic'].values, predicted_labels_df['severe_toxic'].values)\n",
    "accuracy_obscene_n = accuracy_score(test_offensive_df['obscene'].values, predicted_labels_df['obscene'].values)\n",
    "accuracy_threat_n = accuracy_score(test_offensive_df['threat'].values, predicted_labels_df['threat'].values)\n",
    "accuracy_insult_n = accuracy_score(test_offensive_df['insult'].values, predicted_labels_df['insult'].values)\n",
    "accuracy_identity_hate_n = accuracy_score(test_offensive_df['identity_hate'].values, predicted_labels_df['identity_hate'].values)"
   ]
  },
  {
   "cell_type": "code",
   "execution_count": 18,
   "metadata": {},
   "outputs": [
    {
     "name": "stdout",
     "output_type": "stream",
     "text": [
      "Accuracy of toxic comment prediction is  0.204831404127\n",
      "Accuracy of severe toxic comment prediction is  0.903875188727\n",
      "Accuracy of obscene comment prediction is  0.522898842476\n",
      "Accuracy of threat comment prediction is  0.974333165576\n",
      "Accuracy of insult comment prediction is  0.529441368898\n",
      "Accuracy of comment with identity hate prediction is  0.922999496729\n"
     ]
    }
   ],
   "source": [
    "print(\"Accuracy of toxic comment prediction is \", accuracy_toxic_n)\n",
    "print(\"Accuracy of severe toxic comment prediction is \", accuracy_severe_toxic_n)\n",
    "print(\"Accuracy of obscene comment prediction is \", accuracy_obscene_n)\n",
    "print(\"Accuracy of threat comment prediction is \", accuracy_threat_n)\n",
    "print(\"Accuracy of insult comment prediction is \", accuracy_insult_n)\n",
    "print(\"Accuracy of comment with identity hate prediction is \", accuracy_identity_hate_n)"
   ]
  },
  {
   "cell_type": "markdown",
   "metadata": {},
   "source": [
    "Ok, so the most common type of toxic comments - toxic comment - is the most badly predicted. Again, there is obviously a correlation (negative) between the *toxicity* of a comment and the eventual accuracy of the model."
   ]
  },
  {
   "cell_type": "markdown",
   "metadata": {},
   "source": [
    "### Try changing vectorizer"
   ]
  },
  {
   "cell_type": "code",
   "execution_count": 19,
   "metadata": {},
   "outputs": [
    {
     "data": {
      "text/html": [
       "<div>\n",
       "<style>\n",
       "    .dataframe thead tr:only-child th {\n",
       "        text-align: right;\n",
       "    }\n",
       "\n",
       "    .dataframe thead th {\n",
       "        text-align: left;\n",
       "    }\n",
       "\n",
       "    .dataframe tbody tr th {\n",
       "        vertical-align: top;\n",
       "    }\n",
       "</style>\n",
       "<table border=\"1\" class=\"dataframe\">\n",
       "  <thead>\n",
       "    <tr style=\"text-align: right;\">\n",
       "      <th></th>\n",
       "      <th>toxic</th>\n",
       "      <th>severe_toxic</th>\n",
       "      <th>obscene</th>\n",
       "      <th>threat</th>\n",
       "      <th>insult</th>\n",
       "      <th>identity_hate</th>\n",
       "    </tr>\n",
       "  </thead>\n",
       "  <tbody>\n",
       "    <tr>\n",
       "      <th>0</th>\n",
       "      <td>0</td>\n",
       "      <td>0</td>\n",
       "      <td>0</td>\n",
       "      <td>0</td>\n",
       "      <td>0</td>\n",
       "      <td>0</td>\n",
       "    </tr>\n",
       "    <tr>\n",
       "      <th>1</th>\n",
       "      <td>0</td>\n",
       "      <td>0</td>\n",
       "      <td>0</td>\n",
       "      <td>0</td>\n",
       "      <td>0</td>\n",
       "      <td>0</td>\n",
       "    </tr>\n",
       "    <tr>\n",
       "      <th>2</th>\n",
       "      <td>1</td>\n",
       "      <td>0</td>\n",
       "      <td>1</td>\n",
       "      <td>1</td>\n",
       "      <td>1</td>\n",
       "      <td>0</td>\n",
       "    </tr>\n",
       "    <tr>\n",
       "      <th>3</th>\n",
       "      <td>1</td>\n",
       "      <td>0</td>\n",
       "      <td>0</td>\n",
       "      <td>0</td>\n",
       "      <td>0</td>\n",
       "      <td>0</td>\n",
       "    </tr>\n",
       "    <tr>\n",
       "      <th>4</th>\n",
       "      <td>0</td>\n",
       "      <td>0</td>\n",
       "      <td>0</td>\n",
       "      <td>0</td>\n",
       "      <td>0</td>\n",
       "      <td>0</td>\n",
       "    </tr>\n",
       "  </tbody>\n",
       "</table>\n",
       "</div>"
      ],
      "text/plain": [
       "   toxic  severe_toxic  obscene  threat  insult  identity_hate\n",
       "0      0             0        0       0       0              0\n",
       "1      0             0        0       0       0              0\n",
       "2      1             0        1       1       1              0\n",
       "3      1             0        0       0       0              0\n",
       "4      0             0        0       0       0              0"
      ]
     },
     "execution_count": 19,
     "metadata": {},
     "output_type": "execute_result"
    }
   ],
   "source": [
    "clf = Pipeline([\n",
    "    ('vectorizer', CountVectorizer(stop_words='english')),\n",
    "    ('classifier', OneVsRestClassifier(MultinomialNB())),\n",
    "])\n",
    "\n",
    "clf.fit(train_features.values, train_labels.values)\n",
    "columns = ['toxic', 'severe_toxic', 'obscene', 'threat', 'insult', 'identity_hate'] # do not remove\n",
    "predicted = list(clf.predict(test_data['comment_text'].values))\n",
    "real_labels = list(test_data[columns].values)\n",
    "#predicted_labels_df = pd.DataFrame(predicted, columns=columns)\n",
    "\n",
    "test_offensive_df = test_data[(test_data['toxic'] != 0) \n",
    "                              | (test_data['severe_toxic'] != 0) \n",
    "                              | (test_data['obscene'] != 0) \n",
    "                              | (test_data['threat'] != 0) \n",
    "                              | (test_data['insult'] != 0) \n",
    "                              | (test_data['identity_hate'] != 0)]\n",
    "\n",
    "predicted_toxicity = list(clf.predict(test_offensive_df['comment_text'].values))\n",
    "real_labels_toxicity = list(test_offensive_df[columns].values)\n",
    "\n",
    "# predicted_df = test_data[['id', 'comment_text']]\n",
    "predicted_labels_df = pd.DataFrame(predicted_toxicity, columns=columns)\n",
    "predicted_labels_df.head()\n",
    "\n"
   ]
  },
  {
   "cell_type": "code",
   "execution_count": 20,
   "metadata": {
    "collapsed": true
   },
   "outputs": [],
   "source": [
    "accuracy_toxic_cv = accuracy_score(test_offensive_df['toxic'].values, predicted_labels_df['toxic'].values)\n",
    "accuracy_severe_toxic_cv = accuracy_score(test_offensive_df['severe_toxic'].values, predicted_labels_df['severe_toxic'].values)\n",
    "accuracy_obscene_cv = accuracy_score(test_offensive_df['obscene'].values, predicted_labels_df['obscene'].values)\n",
    "accuracy_threat_cv = accuracy_score(test_offensive_df['threat'].values, predicted_labels_df['threat'].values)\n",
    "accuracy_insult_cv = accuracy_score(test_offensive_df['insult'].values, predicted_labels_df['insult'].values)\n",
    "accuracy_identity_hate_cv = accuracy_score(test_offensive_df['identity_hate'].values, predicted_labels_df['identity_hate'].values)"
   ]
  },
  {
   "cell_type": "code",
   "execution_count": 21,
   "metadata": {},
   "outputs": [
    {
     "name": "stdout",
     "output_type": "stream",
     "text": [
      "Accuracy of toxic comment prediction is  0.588827377957\n",
      "Accuracy of severe toxic comment prediction is  0.89028686462\n",
      "Accuracy of obscene comment prediction is  0.733266230498\n",
      "Accuracy of threat comment prediction is  0.970306995471\n",
      "Accuracy of insult comment prediction is  0.688475088072\n",
      "Accuracy of comment with identity hate prediction is  0.909411172622\n"
     ]
    }
   ],
   "source": [
    "print(\"Accuracy of toxic comment prediction is \", accuracy_toxic_cv)\n",
    "print(\"Accuracy of severe toxic comment prediction is \", accuracy_severe_toxic_cv)\n",
    "print(\"Accuracy of obscene comment prediction is \", accuracy_obscene_cv)\n",
    "print(\"Accuracy of threat comment prediction is \", accuracy_threat_cv)\n",
    "print(\"Accuracy of insult comment prediction is \", accuracy_insult_cv)\n",
    "print(\"Accuracy of comment with identity hate prediction is \", accuracy_identity_hate_cv)"
   ]
  },
  {
   "cell_type": "markdown",
   "metadata": {},
   "source": [
    "Seems that CountVectorizer makes better job. Let's also change classifier to Random Forests."
   ]
  },
  {
   "cell_type": "code",
   "execution_count": 22,
   "metadata": {
    "collapsed": true
   },
   "outputs": [],
   "source": [
    "from sklearn.ensemble import RandomForestClassifier\n",
    "\n",
    "clf = Pipeline([\n",
    "    ('vectorizer', CountVectorizer(stop_words='english')),\n",
    "    ('classifier', OneVsRestClassifier(RandomForestClassifier())),\n",
    "])"
   ]
  },
  {
   "cell_type": "code",
   "execution_count": 23,
   "metadata": {
    "collapsed": true
   },
   "outputs": [],
   "source": [
    "clf.fit(train_features.values, train_labels.values)\n",
    "columns = ['toxic', 'severe_toxic', 'obscene', 'threat', 'insult', 'identity_hate'] # do not remove\n",
    "predicted = list(clf.predict(test_data['comment_text'].values))\n",
    "real_labels = list(test_data[columns].values)\n",
    "\n",
    "test_offensive_df = test_data[(test_data['toxic'] != 0) \n",
    "                              | (test_data['severe_toxic'] != 0) \n",
    "                              | (test_data['obscene'] != 0) \n",
    "                              | (test_data['threat'] != 0) \n",
    "                              | (test_data['insult'] != 0) \n",
    "                              | (test_data['identity_hate'] != 0)]\n",
    "\n",
    "predicted_toxicity = list(clf.predict(test_offensive_df['comment_text'].values))\n",
    "real_labels_toxicity = list(test_offensive_df[columns].values)\n",
    "\n",
    "predicted_labels_df = pd.DataFrame(predicted_toxicity, columns=columns)\n"
   ]
  },
  {
   "cell_type": "code",
   "execution_count": 27,
   "metadata": {
    "collapsed": true
   },
   "outputs": [],
   "source": [
    "accuracy_toxic_rf = accuracy_score(test_offensive_df['toxic'].values, predicted_labels_df['toxic'].values)\n",
    "accuracy_severe_toxic_rf = accuracy_score(test_offensive_df['severe_toxic'].values, predicted_labels_df['severe_toxic'].values)\n",
    "accuracy_obscene_rf = accuracy_score(test_offensive_df['obscene'].values, predicted_labels_df['obscene'].values)\n",
    "accuracy_threat_rf = accuracy_score(test_offensive_df['threat'].values, predicted_labels_df['threat'].values)\n",
    "accuracy_insult_rf = accuracy_score(test_offensive_df['insult'].values, predicted_labels_df['insult'].values)\n",
    "accuracy_identity_hate_rf = accuracy_score(test_offensive_df['identity_hate'].values, predicted_labels_df['identity_hate'].values)"
   ]
  },
  {
   "cell_type": "code",
   "execution_count": 28,
   "metadata": {},
   "outputs": [
    {
     "name": "stdout",
     "output_type": "stream",
     "text": [
      "Accuracy of toxic comment prediction is  0.573225968797\n",
      "Accuracy of severe toxic comment prediction is  0.90437845999\n",
      "Accuracy of obscene comment prediction is  0.78208354303\n",
      "Accuracy of threat comment prediction is  0.975339708103\n",
      "Accuracy of insult comment prediction is  0.676396577755\n",
      "Accuracy of comment with identity hate prediction is  0.924006039255\n"
     ]
    }
   ],
   "source": [
    "print(\"Accuracy of toxic comment prediction is \", accuracy_toxic_rf)\n",
    "print(\"Accuracy of severe toxic comment prediction is \", accuracy_severe_toxic_rf)\n",
    "print(\"Accuracy of obscene comment prediction is \", accuracy_obscene_rf)\n",
    "print(\"Accuracy of threat comment prediction is \", accuracy_threat_rf)\n",
    "print(\"Accuracy of insult comment prediction is \", accuracy_insult_rf)\n",
    "print(\"Accuracy of comment with identity hate prediction is \", accuracy_identity_hate_rf)"
   ]
  },
  {
   "cell_type": "markdown",
   "metadata": {},
   "source": [
    "It appears that RandomForestsClassifier doesn't make any difference compare to Multinomial Naive Bayes classifier. Since it takes longer to train on random forests, Naive Bayes is a better choice."
   ]
  },
  {
   "cell_type": "code",
   "execution_count": null,
   "metadata": {
    "collapsed": true
   },
   "outputs": [],
   "source": []
  }
 ],
 "metadata": {
  "kernelspec": {
   "display_name": "Python 3",
   "language": "python",
   "name": "python3"
  },
  "language_info": {
   "codemirror_mode": {
    "name": "ipython",
    "version": 3
   },
   "file_extension": ".py",
   "mimetype": "text/x-python",
   "name": "python",
   "nbconvert_exporter": "python",
   "pygments_lexer": "ipython3",
   "version": "3.6.3"
  }
 },
 "nbformat": 4,
 "nbformat_minor": 2
}
